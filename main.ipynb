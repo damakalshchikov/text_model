{
 "cells": [
  {
   "cell_type": "markdown",
   "id": "1a89992e",
   "metadata": {},
   "source": [
    "# Предсказание цен на дома"
   ]
  },
  {
   "cell_type": "markdown",
   "id": "61c8c81b",
   "metadata": {},
   "source": [
    "## Импорт библиотек"
   ]
  },
  {
   "cell_type": "code",
   "execution_count": 10,
   "id": "878d5ce4",
   "metadata": {},
   "outputs": [],
   "source": [
    "import pandas as pd\n",
    "from sklearn.datasets import fetch_california_housing\n",
    "from sklearn.model_selection import train_test_split\n",
    "from sklearn.ensemble import RandomForestRegressor\n",
    "from sklearn.metrics import mean_squared_error, r2_score\n",
    "import matplotlib.pyplot as plt\n",
    "import seaborn as sns"
   ]
  },
  {
   "cell_type": "markdown",
   "id": "6d858a7d",
   "metadata": {},
   "source": [
    "## Загрузка данных"
   ]
  },
  {
   "cell_type": "code",
   "execution_count": null,
   "id": "276a22b4",
   "metadata": {},
   "outputs": [],
   "source": [
    "california = fetch_california_housing()\n",
    "X = pd.DataFrame(california.data, columns=california.feature_names)\n",
    "y = california.target\n",
    "\n",
    "# Вывод первых строк\n",
    "print(\"Первые 5 строк данных:\")\n",
    "print(X.head())\n",
    "\n",
    "# Описание каждого признака\n",
    "feature_descriptions = {\n",
    "    \"MedInc\": \"Средний доход в районе (в десятках тысяч долларов)\",\n",
    "    \"HouseAge\": \"Средний возраст домов в районе (в годах)\",\n",
    "    \"AveRooms\": \"Среднее количество комнат на дом\",\n",
    "    \"AveBedrms\": \"Среднее количество спален на дом\",\n",
    "    \"Population\": \"Население района\",\n",
    "    \"AveOccup\": \"Среднее количество проживающих на дом\",\n",
    "    \"Latitude\": \"Географическая широта района\",\n",
    "    \"Longitude\": \"Географическая долгота района\",\n",
    "}\n",
    "\n",
    "print(\"\\nОписание признаков:\")\n",
    "for feature, description in feature_descriptions.items():\n",
    "    print(f\"- {feature}: {description}\")"
   ]
  },
  {
   "cell_type": "markdown",
   "id": "21e15aea",
   "metadata": {},
   "source": [
    "## Анализ данных"
   ]
  },
  {
   "cell_type": "code",
   "execution_count": null,
   "id": "95607740",
   "metadata": {},
   "outputs": [],
   "source": [
    "# Шаг 4: Анализ данных (корреляция с целевой переменной)\n",
    "plt.figure(figsize=(10, 8))\n",
    "\n",
    "# Преобразуем y в Series и считаем корреляцию\n",
    "y_series = pd.Series(y, index=X.index, name=\"Target\")\n",
    "sns.heatmap(X.corrwith(y_series).to_frame(), annot=True, cmap=\"coolwarm\")\n",
    "\n",
    "plt.title(\"Корреляция признаков с ценой дома\")\n",
    "plt.show()"
   ]
  },
  {
   "cell_type": "markdown",
   "id": "b05db7d8",
   "metadata": {},
   "source": [
    "## Разделение данных"
   ]
  },
  {
   "cell_type": "code",
   "execution_count": 13,
   "id": "2d2973e7",
   "metadata": {},
   "outputs": [],
   "source": [
    "X_train, X_test, y_train, y_test = train_test_split(\n",
    "    X, y, test_size=0.3, random_state=42\n",
    ")"
   ]
  },
  {
   "cell_type": "markdown",
   "id": "65a3c0a6",
   "metadata": {},
   "source": [
    "## Обучение модели"
   ]
  },
  {
   "cell_type": "code",
   "execution_count": null,
   "id": "db9c325d",
   "metadata": {},
   "outputs": [],
   "source": [
    "model = RandomForestRegressor(n_estimators=100, random_state=42)\n",
    "model.fit(X_train, y_train)"
   ]
  },
  {
   "cell_type": "markdown",
   "id": "5abb0d39",
   "metadata": {},
   "source": [
    "## Оценка качества"
   ]
  },
  {
   "cell_type": "code",
   "execution_count": null,
   "id": "a59cb7b8",
   "metadata": {},
   "outputs": [],
   "source": [
    "y_pred = model.predict(X_test)\n",
    "mse = mean_squared_error(y_test, y_pred)\n",
    "r2 = r2_score(y_test, y_pred)\n",
    "\n",
    "print(f\"Среднеквадратичная ошибка (MSE): {mse:.4f}\")\n",
    "print(f\"Коэффициент детерминации R²: {r2:.4f}\")"
   ]
  },
  {
   "cell_type": "markdown",
   "id": "bededd52",
   "metadata": {},
   "source": [
    "## Визуализация результатов"
   ]
  },
  {
   "cell_type": "code",
   "execution_count": null,
   "id": "78bbcec3",
   "metadata": {},
   "outputs": [],
   "source": [
    "plt.figure(figsize=(10, 6))\n",
    "sns.scatterplot(x=y_test, y=y_pred, alpha=0.6)\n",
    "plt.plot([y.min(), y.max()], [y.min(), y.max()], \"r--\")\n",
    "plt.xlabel(\"Реальные цены\")\n",
    "plt.ylabel(\"Предсказанные цены\")\n",
    "plt.title(\"Реальные vs Предсказанные цены\")\n",
    "plt.show()"
   ]
  },
  {
   "cell_type": "markdown",
   "id": "70b6997d",
   "metadata": {},
   "source": [
    "## Пример предсказания"
   ]
  },
  {
   "cell_type": "code",
   "execution_count": null,
   "id": "2a6139f6",
   "metadata": {},
   "outputs": [],
   "source": [
    "example_df = pd.DataFrame([X_test.iloc[0]], columns=X.columns)\n",
    "predicted_price = model.predict(example_df)[0]\n",
    "print(f\"Предсказанная цена дома: ${predicted_price * 100_000:.2f}\")"
   ]
  },
  {
   "cell_type": "markdown",
   "id": "a31dacfe",
   "metadata": {},
   "source": [
    "## Предсказания для нескольких домов"
   ]
  },
  {
   "cell_type": "code",
   "execution_count": null,
   "id": "d65f5d54",
   "metadata": {},
   "outputs": [],
   "source": [
    "for i in range(5):\n",
    "    house = pd.DataFrame([X_test.iloc[i]], columns=X.columns)\n",
    "    price = model.predict(house)[0] * 100_000\n",
    "    print(f\"Дом {i+1}: ${price:.2f}\")"
   ]
  }
 ],
 "metadata": {
  "kernelspec": {
   "display_name": ".venv",
   "language": "python",
   "name": "python3"
  },
  "language_info": {
   "codemirror_mode": {
    "name": "ipython",
    "version": 3
   },
   "file_extension": ".py",
   "mimetype": "text/x-python",
   "name": "python",
   "nbconvert_exporter": "python",
   "pygments_lexer": "ipython3",
   "version": "3.13.2"
  }
 },
 "nbformat": 4,
 "nbformat_minor": 5
}
